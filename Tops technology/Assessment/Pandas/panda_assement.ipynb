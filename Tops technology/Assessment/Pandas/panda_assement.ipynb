{
  "nbformat": 4,
  "nbformat_minor": 0,
  "metadata": {
    "colab": {
      "provenance": []
    },
    "kernelspec": {
      "name": "python3",
      "display_name": "Python 3"
    },
    "language_info": {
      "name": "python"
    }
  },
  "cells": [
    {
      "cell_type": "code",
      "execution_count": null,
      "metadata": {
        "id": "F4ufBUDj_xP7"
      },
      "outputs": [],
      "source": [
        "import numpy as np"
      ]
    },
    {
      "cell_type": "code",
      "source": [
        "import pandas as pd\n"
      ],
      "metadata": {
        "id": "4Dp61dTzD39u"
      },
      "execution_count": null,
      "outputs": []
    },
    {
      "cell_type": "code",
      "source": [
        "df = pd.read_csv(\"sample_data/finance_economics_dataset.csv\")\n",
        "print(df.head())\n"
      ],
      "metadata": {
        "id": "WT-qjc4MD9jU",
        "colab": {
          "base_uri": "https://localhost:8080/"
        },
        "outputId": "371a8a4c-d890-4326-f948-59eeddf19ade"
      },
      "execution_count": null,
      "outputs": [
        {
          "output_type": "stream",
          "name": "stdout",
          "text": [
            "         Date Stock Index  Open Price  Close Price  Daily High  Daily Low  \\\n",
            "0  2000-01-01   Dow Jones     2128.75      2138.48     2143.70    2100.55   \n",
            "1  2000-01-02     S&P 500     2046.82      2036.18     2082.83    2009.53   \n",
            "2  2000-01-03   Dow Jones     1987.92      1985.26     2022.28    1978.37   \n",
            "3  2000-01-04   Dow Jones     4625.02      4660.47     4665.26    4595.46   \n",
            "4  2000-01-05     S&P 500     1998.18      1982.18     2044.31    1966.44   \n",
            "\n",
            "   Trading Volume  GDP Growth (%)  Inflation Rate (%)  Unemployment Rate (%)  \\\n",
            "0         2670411           -0.37                6.06                   6.10   \n",
            "1       690220415            3.19                4.95                   6.62   \n",
            "2       315284661            5.54                9.13                   2.60   \n",
            "3        13098297           10.00                3.77                   2.20   \n",
            "4       385306746            1.53                2.20                   8.20   \n",
            "\n",
            "   ...  Forex USD/EUR  Forex USD/JPY  Crude Oil Price (USD per Barrel)  \\\n",
            "0  ...           1.04         119.87                             47.20   \n",
            "1  ...           1.00          98.22                             52.84   \n",
            "2  ...           0.83          80.13                             78.80   \n",
            "3  ...           0.95         149.15                             28.18   \n",
            "4  ...           1.43         113.71                             92.20   \n",
            "\n",
            "   Gold Price (USD per Ounce)  Real Estate Index  Retail Sales (Billion USD)  \\\n",
            "0                     1052.34             390.23                        2229   \n",
            "1                     1957.73             346.23                        4156   \n",
            "2                     2339.49             439.46                         340   \n",
            "3                     1308.54             213.07                        8456   \n",
            "4                     2210.08             405.49                        1596   \n",
            "\n",
            "   Bankruptcy Rate (%)  Mergers & Acquisitions Deals  \\\n",
            "0                 2.12                             3   \n",
            "1                 1.40                            21   \n",
            "2                 0.79                            48   \n",
            "3                 4.22                            16   \n",
            "4                 2.21                            34   \n",
            "\n",
            "   Venture Capital Funding (Billion USD)  Consumer Spending (Billion USD)  \n",
            "0                                  76.64                             4589  \n",
            "1                                   5.67                            10101  \n",
            "2                                  39.43                            13665  \n",
            "3                                  12.83                             5192  \n",
            "4                                  86.37                            10688  \n",
            "\n",
            "[5 rows x 24 columns]\n"
          ]
        }
      ]
    },
    {
      "cell_type": "code",
      "source": [
        "# Q 1 what is shape of dataset\n",
        "shp = np.shape(df)\n",
        "print(shp)"
      ],
      "metadata": {
        "colab": {
          "base_uri": "https://localhost:8080/"
        },
        "id": "eldLsJkBEkvC",
        "outputId": "a7ce3d17-4dd9-41ef-e644-e2ab9875f082"
      },
      "execution_count": null,
      "outputs": [
        {
          "output_type": "stream",
          "name": "stdout",
          "text": [
            "(3000, 24)\n"
          ]
        }
      ]
    },
    {
      "cell_type": "code",
      "source": [
        "# Q2 column name with data type\n",
        "print(df.info())"
      ],
      "metadata": {
        "colab": {
          "base_uri": "https://localhost:8080/"
        },
        "id": "b_Ufn5cXFHxa",
        "outputId": "2a3aca38-0de9-4898-d0eb-21e498f4a84b"
      },
      "execution_count": null,
      "outputs": [
        {
          "output_type": "stream",
          "name": "stdout",
          "text": [
            "<class 'pandas.core.frame.DataFrame'>\n",
            "RangeIndex: 3000 entries, 0 to 2999\n",
            "Data columns (total 24 columns):\n",
            " #   Column                                 Non-Null Count  Dtype  \n",
            "---  ------                                 --------------  -----  \n",
            " 0   Date                                   3000 non-null   object \n",
            " 1   Stock Index                            3000 non-null   object \n",
            " 2   Open Price                             3000 non-null   float64\n",
            " 3   Close Price                            3000 non-null   float64\n",
            " 4   Daily High                             3000 non-null   float64\n",
            " 5   Daily Low                              3000 non-null   float64\n",
            " 6   Trading Volume                         3000 non-null   int64  \n",
            " 7   GDP Growth (%)                         3000 non-null   float64\n",
            " 8   Inflation Rate (%)                     3000 non-null   float64\n",
            " 9   Unemployment Rate (%)                  3000 non-null   float64\n",
            " 10  Interest Rate (%)                      3000 non-null   float64\n",
            " 11  Consumer Confidence Index              3000 non-null   int64  \n",
            " 12  Government Debt (Billion USD)          3000 non-null   int64  \n",
            " 13  Corporate Profits (Billion USD)        3000 non-null   int64  \n",
            " 14  Forex USD/EUR                          3000 non-null   float64\n",
            " 15  Forex USD/JPY                          3000 non-null   float64\n",
            " 16  Crude Oil Price (USD per Barrel)       3000 non-null   float64\n",
            " 17  Gold Price (USD per Ounce)             3000 non-null   float64\n",
            " 18  Real Estate Index                      3000 non-null   float64\n",
            " 19  Retail Sales (Billion USD)             3000 non-null   int64  \n",
            " 20  Bankruptcy Rate (%)                    3000 non-null   float64\n",
            " 21  Mergers & Acquisitions Deals           3000 non-null   int64  \n",
            " 22  Venture Capital Funding (Billion USD)  3000 non-null   float64\n",
            " 23  Consumer Spending (Billion USD)        3000 non-null   int64  \n",
            "dtypes: float64(15), int64(7), object(2)\n",
            "memory usage: 562.6+ KB\n",
            "None\n"
          ]
        }
      ]
    },
    {
      "cell_type": "code",
      "source": [
        "# Q 3 How many unique stock indices\n",
        "uniq_indices = df[\"Stock Index\"].nunique()\n",
        "print(\"Number of unique stock of indices : \",uniq_indices)"
      ],
      "metadata": {
        "colab": {
          "base_uri": "https://localhost:8080/"
        },
        "id": "QX9SWemSFjDu",
        "outputId": "9abd77f7-0040-42cd-eb07-8a25a472e0f3"
      },
      "execution_count": null,
      "outputs": [
        {
          "output_type": "stream",
          "name": "stdout",
          "text": [
            "Number of unique stock of indices :  3\n"
          ]
        }
      ]
    },
    {
      "cell_type": "code",
      "source": [
        "# Q 4 What is date range of this dataset\n",
        "start_date = df[\"Date\"].min()\n",
        "end_date = df[\"Date\"].max()\n",
        "print(\"Dataset date range is :\",start_date,\"to\",end_date)"
      ],
      "metadata": {
        "colab": {
          "base_uri": "https://localhost:8080/"
        },
        "id": "9U9sfTu2GAt-",
        "outputId": "814da057-1318-445a-e9c3-704c6ef94bd4"
      },
      "execution_count": null,
      "outputs": [
        {
          "output_type": "stream",
          "name": "stdout",
          "text": [
            "Dataset date range is : 2000-01-01 to 2008-03-18\n"
          ]
        }
      ]
    },
    {
      "cell_type": "code",
      "source": [
        "# Q 5 are there any missing value\n",
        "print(df.isnull().sum())"
      ],
      "metadata": {
        "colab": {
          "base_uri": "https://localhost:8080/"
        },
        "id": "ap4lW1bIHzlD",
        "outputId": "65304b37-d13b-4416-afd6-e7e5d50acdf0"
      },
      "execution_count": null,
      "outputs": [
        {
          "output_type": "stream",
          "name": "stdout",
          "text": [
            "Date                                     0\n",
            "Stock Index                              0\n",
            "Open Price                               0\n",
            "Close Price                              0\n",
            "Daily High                               0\n",
            "Daily Low                                0\n",
            "Trading Volume                           0\n",
            "GDP Growth (%)                           0\n",
            "Inflation Rate (%)                       0\n",
            "Unemployment Rate (%)                    0\n",
            "Interest Rate (%)                        0\n",
            "Consumer Confidence Index                0\n",
            "Government Debt (Billion USD)            0\n",
            "Corporate Profits (Billion USD)          0\n",
            "Forex USD/EUR                            0\n",
            "Forex USD/JPY                            0\n",
            "Crude Oil Price (USD per Barrel)         0\n",
            "Gold Price (USD per Ounce)               0\n",
            "Real Estate Index                        0\n",
            "Retail Sales (Billion USD)               0\n",
            "Bankruptcy Rate (%)                      0\n",
            "Mergers & Acquisitions Deals             0\n",
            "Venture Capital Funding (Billion USD)    0\n",
            "Consumer Spending (Billion USD)          0\n",
            "dtype: int64\n"
          ]
        }
      ]
    },
    {
      "cell_type": "code",
      "source": [
        "# Q 6 Are there negative values in columns that should be non-negative?\n",
        "non_negetive = [\"Open Price\",\"Close Price\",\"Daily High\",\"Daily Low\", \"Consumer Confidence Index\",\"Government Debt (Billion USD)\",\"Forex USD/EUR\",\n",
        "                 \"Forex USD/JPY\",\"Crude Oil Price (USD per Barrel)\",\"Gold Price (USD per Ounce)\",\n",
        "                \"Real Estate Index\",\"Retail Sales (Billion USD)\",\"Bankruptcy Rate (%)\",\n",
        "                \"Mergers & Acquisitions Deals\",\"Venture Capital Funding (Billion USD)\",\n",
        "                \"Consumer Spending (Billion USD)\"\n",
        "               ]\n",
        "for col in non_negetive:\n",
        "  if (df[col] < 0).any():\n",
        "    print(f\"Column {col} has negative values.\")\n",
        "  else:\n",
        "    print(f\"Column {col} does not have negative values.\")"
      ],
      "metadata": {
        "colab": {
          "base_uri": "https://localhost:8080/"
        },
        "id": "foyMfbkrINvA",
        "outputId": "6cd6e929-7405-424a-ad05-1a90c11fd5c1"
      },
      "execution_count": 54,
      "outputs": [
        {
          "output_type": "stream",
          "name": "stdout",
          "text": [
            "Column Open Price does not have negative values.\n",
            "Column Close Price does not have negative values.\n",
            "Column Daily High does not have negative values.\n",
            "Column Daily Low does not have negative values.\n",
            "Column Consumer Confidence Index does not have negative values.\n",
            "Column Government Debt (Billion USD) does not have negative values.\n",
            "Column Forex USD/EUR does not have negative values.\n",
            "Column Forex USD/JPY does not have negative values.\n",
            "Column Crude Oil Price (USD per Barrel) does not have negative values.\n",
            "Column Gold Price (USD per Ounce) does not have negative values.\n",
            "Column Real Estate Index does not have negative values.\n",
            "Column Retail Sales (Billion USD) does not have negative values.\n",
            "Column Bankruptcy Rate (%) does not have negative values.\n",
            "Column Mergers & Acquisitions Deals does not have negative values.\n",
            "Column Venture Capital Funding (Billion USD) does not have negative values.\n",
            "Column Consumer Spending (Billion USD) does not have negative values.\n"
          ]
        }
      ]
    },
    {
      "cell_type": "code",
      "source": [
        "# 7. What is the summary of GDP Growth (%)?\n",
        "summery = df[\"GDP Growth (%)\"].describe()\n",
        "print(summery)"
      ],
      "metadata": {
        "id": "dCDGZyyMKz55",
        "colab": {
          "base_uri": "https://localhost:8080/"
        },
        "outputId": "37f3b8ac-a932-46f7-9601-3d2d1fdfb523"
      },
      "execution_count": null,
      "outputs": [
        {
          "output_type": "stream",
          "name": "stdout",
          "text": [
            "count    3000.000000\n",
            "mean        2.608903\n",
            "std         4.287337\n",
            "min        -5.000000\n",
            "25%        -1.012500\n",
            "50%         2.725000\n",
            "75%         6.242500\n",
            "max        10.000000\n",
            "Name: GDP Growth (%), dtype: float64\n"
          ]
        }
      ]
    },
    {
      "cell_type": "code",
      "source": [
        "# Q 8 Are there rows with zero or near-zero trading volume?\n",
        "zero_value = df[df[\"Trading Volume\"]==0]\n",
        "print(zero_value)\n",
        "near_zero = df[df[\"Trading Volume\"]<1]\n",
        "print(\"Near zero values is \\n\",near_zero)"
      ],
      "metadata": {
        "colab": {
          "base_uri": "https://localhost:8080/"
        },
        "id": "2HvKjZWTuxUh",
        "outputId": "bf8ac1ef-42db-44f2-8d04-27f285173c8f"
      },
      "execution_count": null,
      "outputs": [
        {
          "output_type": "stream",
          "name": "stdout",
          "text": [
            "Empty DataFrame\n",
            "Columns: [Date, Stock Index, Open Price, Close Price, Daily High, Daily Low, Trading Volume, GDP Growth (%), Inflation Rate (%), Unemployment Rate (%), Interest Rate (%), Consumer Confidence Index, Government Debt (Billion USD), Corporate Profits (Billion USD), Forex USD/EUR, Forex USD/JPY, Crude Oil Price (USD per Barrel), Gold Price (USD per Ounce), Real Estate Index, Retail Sales (Billion USD), Bankruptcy Rate (%), Mergers & Acquisitions Deals, Venture Capital Funding (Billion USD), Consumer Spending (Billion USD)]\n",
            "Index: []\n",
            "\n",
            "[0 rows x 24 columns]\n",
            "Near zero values is \n",
            " Empty DataFrame\n",
            "Columns: [Date, Stock Index, Open Price, Close Price, Daily High, Daily Low, Trading Volume, GDP Growth (%), Inflation Rate (%), Unemployment Rate (%), Interest Rate (%), Consumer Confidence Index, Government Debt (Billion USD), Corporate Profits (Billion USD), Forex USD/EUR, Forex USD/JPY, Crude Oil Price (USD per Barrel), Gold Price (USD per Ounce), Real Estate Index, Retail Sales (Billion USD), Bankruptcy Rate (%), Mergers & Acquisitions Deals, Venture Capital Funding (Billion USD), Consumer Spending (Billion USD)]\n",
            "Index: []\n",
            "\n",
            "[0 rows x 24 columns]\n"
          ]
        }
      ]
    },
    {
      "cell_type": "code",
      "source": [
        "\n",
        "# Q 9 are there any duplicated\n",
        "duplicated = df.duplicated()\n",
        "print(duplicated)"
      ],
      "metadata": {
        "colab": {
          "base_uri": "https://localhost:8080/"
        },
        "id": "poS5njGsy2gD",
        "outputId": "e597e621-0400-4a3c-f77e-0bea2011987a"
      },
      "execution_count": null,
      "outputs": [
        {
          "output_type": "stream",
          "name": "stdout",
          "text": [
            "0       False\n",
            "1       False\n",
            "2       False\n",
            "3       False\n",
            "4       False\n",
            "        ...  \n",
            "2995    False\n",
            "2996    False\n",
            "2997    False\n",
            "2998    False\n",
            "2999    False\n",
            "Length: 3000, dtype: bool\n"
          ]
        }
      ]
    },
    {
      "cell_type": "code",
      "source": [
        "# Q10 Outier\n",
        "def find_outliers(column):\n",
        "  Q1 = df[column].quantile(0.25)\n",
        "  Q3 = df[column].quantile(0.75)\n",
        "  IQR = Q3 - Q1\n",
        "  lower_bound = Q1 - 1.5 * IQR\n",
        "  upper_bound = Q3 + 1.5 * IQR\n",
        "  outliers = (df[(df[column] < lower_bound) | (df[column] > upper_bound)])\n",
        "  print(f\"\\nColumn:{column}\")\n",
        "  print(f\"Lower Bound :{lower_bound}\")\n",
        "  print(f\"Upper Bound : {upper_bound}\")\n",
        "  print(outliers)\n",
        "find_outliers(\"GDP Growth (%)\")\n",
        "find_outliers(\"Gold Price (USD per Ounce)\")\n",
        "find_outliers(\"Crude Oil Price (USD per Barrel)\")\n"
      ],
      "metadata": {
        "id": "bR1nqAlXzI_5",
        "colab": {
          "base_uri": "https://localhost:8080/"
        },
        "outputId": "a9b03621-1ed9-41f5-ba0d-067959a5a75d"
      },
      "execution_count": null,
      "outputs": [
        {
          "output_type": "stream",
          "name": "stdout",
          "text": [
            "\n",
            "Column:GDP Growth (%)\n",
            "Lower Bound :-11.895\n",
            "Upper Bound : 17.125\n",
            "Empty DataFrame\n",
            "Columns: [Date, Stock Index, Open Price, Close Price, Daily High, Daily Low, Trading Volume, GDP Growth (%), Inflation Rate (%), Unemployment Rate (%), Interest Rate (%), Consumer Confidence Index, Government Debt (Billion USD), Corporate Profits (Billion USD), Forex USD/EUR, Forex USD/JPY, Crude Oil Price (USD per Barrel), Gold Price (USD per Ounce), Real Estate Index, Retail Sales (Billion USD), Bankruptcy Rate (%), Mergers & Acquisitions Deals, Venture Capital Funding (Billion USD), Consumer Spending (Billion USD)]\n",
            "Index: []\n",
            "\n",
            "[0 rows x 24 columns]\n",
            "\n",
            "Column:Gold Price (USD per Ounce)\n",
            "Lower Bound :-54.25125000000003\n",
            "Upper Bound : 3361.71875\n",
            "Empty DataFrame\n",
            "Columns: [Date, Stock Index, Open Price, Close Price, Daily High, Daily Low, Trading Volume, GDP Growth (%), Inflation Rate (%), Unemployment Rate (%), Interest Rate (%), Consumer Confidence Index, Government Debt (Billion USD), Corporate Profits (Billion USD), Forex USD/EUR, Forex USD/JPY, Crude Oil Price (USD per Barrel), Gold Price (USD per Ounce), Real Estate Index, Retail Sales (Billion USD), Bankruptcy Rate (%), Mergers & Acquisitions Deals, Venture Capital Funding (Billion USD), Consumer Spending (Billion USD)]\n",
            "Index: []\n",
            "\n",
            "[0 rows x 24 columns]\n",
            "\n",
            "Column:Crude Oil Price (USD per Barrel)\n",
            "Lower Bound :-47.25\n",
            "Upper Bound : 218.99\n",
            "Empty DataFrame\n",
            "Columns: [Date, Stock Index, Open Price, Close Price, Daily High, Daily Low, Trading Volume, GDP Growth (%), Inflation Rate (%), Unemployment Rate (%), Interest Rate (%), Consumer Confidence Index, Government Debt (Billion USD), Corporate Profits (Billion USD), Forex USD/EUR, Forex USD/JPY, Crude Oil Price (USD per Barrel), Gold Price (USD per Ounce), Real Estate Index, Retail Sales (Billion USD), Bankruptcy Rate (%), Mergers & Acquisitions Deals, Venture Capital Funding (Billion USD), Consumer Spending (Billion USD)]\n",
            "Index: []\n",
            "\n",
            "[0 rows x 24 columns]\n"
          ]
        }
      ]
    },
    {
      "cell_type": "code",
      "source": [
        "# Q 11 What is the summery of Inflation Rate (%)\n",
        "summery = df[\"Inflation Rate (%)\"].describe()\n",
        "print(summery)"
      ],
      "metadata": {
        "id": "vNWybQ9EERST",
        "colab": {
          "base_uri": "https://localhost:8080/"
        },
        "outputId": "8b9d670f-912d-42ab-f437-dde7150ce49d"
      },
      "execution_count": null,
      "outputs": [
        {
          "output_type": "stream",
          "name": "stdout",
          "text": [
            "count    3000.000000\n",
            "mean        5.096830\n",
            "std         2.910513\n",
            "min         0.010000\n",
            "25%         2.607500\n",
            "50%         5.110000\n",
            "75%         7.600000\n",
            "max        10.000000\n",
            "Name: Inflation Rate (%), dtype: float64\n"
          ]
        }
      ]
    },
    {
      "cell_type": "code",
      "source": [
        "# Q 12 what is the average of unemployment rate?\n",
        "\n",
        "print(\"Unemployement average rate is :\",df[\"Unemployment Rate (%)\"].mean())"
      ],
      "metadata": {
        "colab": {
          "base_uri": "https://localhost:8080/"
        },
        "id": "REAbGX_Cokiy",
        "outputId": "63e0e2d0-43b0-41fd-dce5-eac64cef4d7d"
      },
      "execution_count": null,
      "outputs": [
        {
          "output_type": "stream",
          "name": "stdout",
          "text": [
            "Unemployement average rate is : 8.663786666666667\n"
          ]
        }
      ]
    },
    {
      "cell_type": "code",
      "source": [
        "# Q 13 Which index has the highest trading volumn?\n",
        "high_index = df.groupby(\"Stock Index\")[\"Trading Volume\"].sum()\n",
        "print(\"Index of highest trading volume :\",high_index)"
      ],
      "metadata": {
        "colab": {
          "base_uri": "https://localhost:8080/"
        },
        "id": "7klGErMypONM",
        "outputId": "67f9b192-479c-44b6-ea8f-d613819f5687"
      },
      "execution_count": null,
      "outputs": [
        {
          "output_type": "stream",
          "name": "stdout",
          "text": [
            "Index of highest trading volume : Stock Index\n",
            "Dow Jones    477653121048\n",
            "NASDAQ       499464048465\n",
            "S&P 500      533041986803\n",
            "Name: Trading Volume, dtype: int64\n"
          ]
        }
      ]
    },
    {
      "cell_type": "code",
      "source": [
        "# Q 14 How many stock records are from each index?\n",
        "\n",
        "record = df[\"Stock Index\"].value_counts()\n",
        "print(\"Total stock records from each index is :\",record)"
      ],
      "metadata": {
        "colab": {
          "base_uri": "https://localhost:8080/"
        },
        "id": "8eLJRjVnqRKC",
        "outputId": "ce954b35-d7e5-4d89-e2c3-6c728a8b9732"
      },
      "execution_count": null,
      "outputs": [
        {
          "output_type": "stream",
          "name": "stdout",
          "text": [
            "Total stock records from each index is : Stock Index\n",
            "S&P 500      1036\n",
            "NASDAQ       1007\n",
            "Dow Jones     957\n",
            "Name: count, dtype: int64\n"
          ]
        }
      ]
    },
    {
      "cell_type": "code",
      "source": [
        "# Q 15 What is the correlation between inflation and interest rate?\n",
        "relation = df[\"Inflation Rate (%)\"].corr(df[\"Interest Rate (%)\"])\n",
        "print(\"Correlation:\",relation)\n",
        "if relation > 0.2:\n",
        "  print(\"High correlation\")\n",
        "else:\n",
        "  print(\"Low correlation\")"
      ],
      "metadata": {
        "colab": {
          "base_uri": "https://localhost:8080/"
        },
        "id": "snoZLb2Cq7MN",
        "outputId": "1edf2ee5-0f93-4603-ac20-15f3352cf0f6"
      },
      "execution_count": 53,
      "outputs": [
        {
          "output_type": "stream",
          "name": "stdout",
          "text": [
            "Correlation: 0.00573292723557624\n",
            "Low correlation\n"
          ]
        }
      ]
    },
    {
      "cell_type": "code",
      "source": [
        "# Q 16 What is the average Consumer Confidence Index\n",
        "avg = df[\"Consumer Confidence Index\"].mean()\n",
        "print(\"Average Consumer Confidence is :\",avg)\n",
        "#  Q 17 Which column has the highest standard deviation ?\n",
        "std_values = df.std(numeric_only=True)\n",
        "high = std_values.idxmax()\n",
        "print(\"Column with highest standard deviation is :\",high)\n",
        "high_value = std_values.max()\n",
        "print(\"Highest standard deviation is :\",high_value)\n"
      ],
      "metadata": {
        "colab": {
          "base_uri": "https://localhost:8080/"
        },
        "id": "N-6oB6vSrejJ",
        "outputId": "4f72191d-0bc3-4a03-bb6d-f9e2623ea1f1"
      },
      "execution_count": null,
      "outputs": [
        {
          "output_type": "stream",
          "name": "stdout",
          "text": [
            "Average Consumer Confidence is : 85.036\n",
            "Column with highest standard deviation is : Trading Volume\n",
            "Highest standard deviation is : 285900426.3714706\n"
          ]
        }
      ]
    },
    {
      "cell_type": "code",
      "source": [
        "# Q18 What is the highest gold price recorded?\n",
        "gold_high = df[\"Gold Price (USD per Ounce)\"].max()\n",
        "print(\"Highest gold price is : \",gold_high)"
      ],
      "metadata": {
        "colab": {
          "base_uri": "https://localhost:8080/"
        },
        "id": "Nj_JNgG5vZCN",
        "outputId": "71c81ac1-3534-45ff-ce0a-9be8481f46fa"
      },
      "execution_count": null,
      "outputs": [
        {
          "output_type": "stream",
          "name": "stdout",
          "text": [
            "Highest gold price is :  2499.66\n"
          ]
        }
      ]
    },
    {
      "cell_type": "code",
      "source": [
        "# Q 19 Which date had the highest crude oil price?\n",
        "# print(df.describe())\n",
        "date_max = df.loc[df[\"Crude Oil Price (USD per Barrel)\"].idxmax()],\"Date\"\n",
        "print(date_max)"
      ],
      "metadata": {
        "colab": {
          "base_uri": "https://localhost:8080/"
        },
        "id": "vfGHASa7wUwm",
        "outputId": "0b3ddf85-2cf6-480c-b64a-ed7dbfd279ae"
      },
      "execution_count": null,
      "outputs": [
        {
          "output_type": "stream",
          "name": "stdout",
          "text": [
            "(Date                                     2001-11-22\n",
            "Stock Index                                 S&P 500\n",
            "Open Price                                  3123.75\n",
            "Close Price                                 3097.04\n",
            "Daily High                                  3145.15\n",
            "Daily Low                                   3083.06\n",
            "Trading Volume                            911856827\n",
            "GDP Growth (%)                                 -0.6\n",
            "Inflation Rate (%)                             3.13\n",
            "Unemployment Rate (%)                         12.94\n",
            "Interest Rate (%)                              6.35\n",
            "Consumer Confidence Index                        63\n",
            "Government Debt (Billion USD)                 26345\n",
            "Corporate Profits (Billion USD)                3790\n",
            "Forex USD/EUR                                  1.13\n",
            "Forex USD/JPY                                109.54\n",
            "Crude Oil Price (USD per Barrel)             149.87\n",
            "Gold Price (USD per Ounce)                  1568.83\n",
            "Real Estate Index                            322.32\n",
            "Retail Sales (Billion USD)                     8963\n",
            "Bankruptcy Rate (%)                             7.8\n",
            "Mergers & Acquisitions Deals                     10\n",
            "Venture Capital Funding (Billion USD)         44.33\n",
            "Consumer Spending (Billion USD)               14223\n",
            "Name: 691, dtype: object, 'Date')\n"
          ]
        }
      ]
    },
    {
      "cell_type": "code",
      "source": [
        "# Q 20 What is the average corporate profit ?\n",
        "avg_profit = df[\"Corporate Profits (Billion USD)\"].mean()\n",
        "print(\"Average corporate profit is :\",avg_profit)"
      ],
      "metadata": {
        "colab": {
          "base_uri": "https://localhost:8080/"
        },
        "id": "SGCFceLLysSM",
        "outputId": "8db9d8cb-2db9-44a9-932d-6c99130f3c7d"
      },
      "execution_count": null,
      "outputs": [
        {
          "output_type": "stream",
          "name": "stdout",
          "text": [
            "Average corporate profit is : 2553.7563333333333\n"
          ]
        }
      ]
    },
    {
      "cell_type": "code",
      "source": [
        "# Q 1 negative gdp percent\n",
        "negative = (df[df[\"GDP Growth (%)\"]<0].shape[0]/df.shape[0])*100\n",
        "print(negative)"
      ],
      "metadata": {
        "colab": {
          "base_uri": "https://localhost:8080/"
        },
        "id": "uDkq2I5QzMdw",
        "outputId": "3411bd65-5bb0-46e1-9b92-ac0d0622fc87"
      },
      "execution_count": null,
      "outputs": [
        {
          "output_type": "stream",
          "name": "stdout",
          "text": [
            "31.566666666666666\n"
          ]
        }
      ]
    },
    {
      "cell_type": "code",
      "source": [
        "# Q 2 Does high inflation correspond to higher interest rates?\n",
        "correlation = df[\"Inflation Rate (%)\"].corr(df[\"Interest Rate (%)\"])\n",
        "print(\"Correlation between inflation and interest rate is :\",correlation)\n",
        "if correlation > 0.2:\n",
        "  print(\"Yes, higher inflation corresponds to higher interest rates\")\n",
        "else:\n",
        "  print(\"No, higher inflation does not correspond to higher interest rates\")"
      ],
      "metadata": {
        "colab": {
          "base_uri": "https://localhost:8080/"
        },
        "id": "ZNaVQ0uSzeVP",
        "outputId": "d8e63468-e563-48ad-c470-7ad3aa37ab0d"
      },
      "execution_count": null,
      "outputs": [
        {
          "output_type": "stream",
          "name": "stdout",
          "text": [
            "Correlation between inflation and interest rate is : 0.00573292723557624\n",
            "No, higher inflation does not correspond to higher interest rates\n"
          ]
        }
      ]
    },
    {
      "cell_type": "code",
      "source": [
        "# Q 3 Is there a relationship between unemployement and consumer spending?\n",
        "cor = df[\"Unemployment Rate (%)\"].corr(df[\"Consumer Spending (Billion USD)\"])\n",
        "print(\"Correlation is : \",cor)"
      ],
      "metadata": {
        "colab": {
          "base_uri": "https://localhost:8080/"
        },
        "id": "1u1jlATi0Gio",
        "outputId": "30599136-3f4c-4461-d5b9-48e8d262ec14"
      },
      "execution_count": null,
      "outputs": [
        {
          "output_type": "stream",
          "name": "stdout",
          "text": [
            "Correlation is :  0.018786001938759088\n"
          ]
        }
      ]
    },
    {
      "cell_type": "code",
      "source": [
        "# Q 4 Do higher corporate profits align with higher consumer confidence ?\n",
        "cor = df[\"Corporate Profits (Billion USD)\"].corr(df[\"Consumer Confidence Index\"])\n",
        "print()\n",
        "if cor > -0.2:\n",
        "  print(\"Yes. they align (Positive Retationship)\")\n",
        "elif cor < -0.2:\n",
        "  print(\"No,they move in opposite directions (Negetive)\")\n",
        "else:\n",
        "  print(\"No clear relationship\")"
      ],
      "metadata": {
        "colab": {
          "base_uri": "https://localhost:8080/"
        },
        "id": "PDpCzoLM0lvf",
        "outputId": "9460ed2f-4099-4953-bc64-216cdabc882c"
      },
      "execution_count": null,
      "outputs": [
        {
          "output_type": "stream",
          "name": "stdout",
          "text": [
            "\n",
            "Yes. they align (Positive Retationship)\n"
          ]
        }
      ]
    },
    {
      "cell_type": "code",
      "source": [
        "# Q 5 What's the trend of crude oil prices over time? Matplotlib question\n",
        "print(df['Crude Oil Price (USD per Barrel)'].describe())"
      ],
      "metadata": {
        "colab": {
          "base_uri": "https://localhost:8080/"
        },
        "id": "lfdOETa_5uCc",
        "outputId": "9fe75528-b34d-4602-eea7-edec6898e558"
      },
      "execution_count": null,
      "outputs": [
        {
          "output_type": "stream",
          "name": "stdout",
          "text": [
            "count    3000.000000\n",
            "mean       85.539953\n",
            "std        37.847063\n",
            "min        20.040000\n",
            "25%        52.590000\n",
            "50%        85.080000\n",
            "75%       119.150000\n",
            "max       149.870000\n",
            "Name: Crude Oil Price (USD per Barrel), dtype: float64\n"
          ]
        }
      ]
    },
    {
      "cell_type": "code",
      "source": [
        "# Q 6 Are gold prices inversely related to stock performance\n",
        "corr_value = df[\"Gold Price (USD per Ounce)\"].corr(df[\"Close Price\"])\n",
        "dis = \"Yes , inversaly related\" if corr_value < -0.2 else \"No, Inversaly related\"\n",
        "print(dis)"
      ],
      "metadata": {
        "colab": {
          "base_uri": "https://localhost:8080/"
        },
        "id": "_vmldR2v_pEo",
        "outputId": "b8af47bf-9bac-4037-9084-fad964d10a7a"
      },
      "execution_count": null,
      "outputs": [
        {
          "output_type": "stream",
          "name": "stdout",
          "text": [
            "No, Inversaly related\n"
          ]
        }
      ]
    },
    {
      "cell_type": "code",
      "source": [
        "# Q 7 Does government debt impact consumer confidence?\n",
        "corr1 = df[\"Government Debt (Billion USD)\"].corr(df[\"Consumer Confidence Index\"])\n",
        "print(\"Correlation:\",corr1)\n",
        "if corr1 > 0:\n",
        "  print(\"Yes, government debt impacts consumer confidence\")\n",
        "else:\n",
        "  print(\"No, government debt does not impact consumer confidence\")"
      ],
      "metadata": {
        "colab": {
          "base_uri": "https://localhost:8080/"
        },
        "id": "dcxEsrbHAO6n",
        "outputId": "f45a6ff4-6465-4259-96ed-2f979e870ab8"
      },
      "execution_count": 55,
      "outputs": [
        {
          "output_type": "stream",
          "name": "stdout",
          "text": [
            "Correlation: -0.03637006085825002\n",
            "No, government debt does not impact consumer confidence\n"
          ]
        }
      ]
    },
    {
      "cell_type": "code",
      "source": [
        "# Q 8 How do mergers & acquisition (M&A) acticity correlate with stock index closing prices?\n",
        "co1 = df[\"Mergers & Acquisitions Deals\"].corr(df[\"Close Price\"])\n",
        "print(\"Correlation is :\",co1)\n",
        "if co1 > 0:\n",
        "  print(\"Yes thier are correlated\")\n",
        "elif co1 < 0:\n",
        "  print(\"No thier are not correlated\")\n",
        "else:\n",
        "  print(\"No clear relationship\")\n"
      ],
      "metadata": {
        "colab": {
          "base_uri": "https://localhost:8080/"
        },
        "id": "SkbnHZdWBRHS",
        "outputId": "85ec41d0-400b-4866-eaef-9a40ebb3ebfe"
      },
      "execution_count": 56,
      "outputs": [
        {
          "output_type": "stream",
          "name": "stdout",
          "text": [
            "Correlation is : 0.002637100789439038\n",
            "Yes thier are correlated\n"
          ]
        }
      ]
    },
    {
      "cell_type": "code",
      "source": [
        "# Q 9 Is retail sales growth associated with GDP growth?\n",
        "print(\"\\nQ9 Retail sales growth associated with GDP growth\\n\")\n",
        "retail = df[\"Retail Sales (Billion USD)\"].corr(df[\"GDP Growth (%)\"])\n",
        "print(\"Retail correlation : \",retail)\n",
        "if retail > 0:\n",
        "  print(\"Yes, retail sales growth associated with GDP growth\")\n",
        "elif retail < 0:\n",
        "  print(\"No, retail sales growth associated with GDP growth\")\n",
        "else:\n",
        "  print(\"No clear relationship\")\n",
        "# Q 10 Is stock market performance linked to consumer spending?\n",
        "print(\"\\nQ10 stock performance , consumer spending \\n\")\n",
        "sm = df[\"Close Price\"].corr(df[\"Consumer Spending (Billion USD)\"])\n",
        "print(\"Correlation :\",sm)\n",
        "if sm > 0:\n",
        "  print(\"Yes, stock market performance linked to consumer spending\")\n",
        "elif sm < 0:\n",
        "  print(\"No, stock market performance linked to consumer spending\")\n",
        "else:\n",
        "  print(\"No clear relationship\")\n"
      ],
      "metadata": {
        "colab": {
          "base_uri": "https://localhost:8080/"
        },
        "id": "3e8N04tdCiMh",
        "outputId": "1d4120d9-82b0-4e0f-cb20-83e85c43086e"
      },
      "execution_count": 58,
      "outputs": [
        {
          "output_type": "stream",
          "name": "stdout",
          "text": [
            "\n",
            "Q9 Retail sales growth associated with GDP growth\n",
            "\n",
            "Retail correlation :  -0.014287611445719916\n",
            "No, retail sales growth associated with GDP growth\n",
            "\n",
            "Q10 stock performance , consumer spending \n",
            "\n",
            "Correlation : 0.000375559393188518\n",
            "Yes, stock market performance linked to consumer spending\n"
          ]
        }
      ]
    },
    {
      "cell_type": "code",
      "source": [
        "# Q 11 Which stock index had the highest average closing price\n",
        "print(\"\\nQ11 Which stock index had the highest average closing price\\n\")\n",
        "avg_close = df.groupby(\"Stock Index\")[\"Close Price\"].mean()\n",
        "highest_avg = avg_close.idxmax()\n",
        "print(\"Stock index with highest average closing price : \",highest_avg)\n",
        "\n",
        "# Q 12 What is the relationship between interest rate and unemployement\n",
        "print(\"\\nQ12 What is the relationship between interest rate and unemployement\\n\")\n",
        "rel = df[\"Interest Rate (%)\"].corr(df[\"Unemployment Rate (%)\"])\n",
        "print(\"Correlation : \",rel)\n",
        "if rel > 0:\n",
        "  print(\"yes, they are move in same direction\")\n",
        "elif rel < 0:\n",
        "  print(\"No, they are move in opposite direction\")\n",
        "else:\n",
        "  print(\"No clear relationship\")\n",
        "# Q 13 Do lower consumer confidence values coincide with higher bankruptcy rates?\n",
        "print(\"\\nQ13 lower consumer confidence , higher bankruptcy rates\\n\")\n",
        "cb = df[\"Consumer Confidence Index\"].corr(df[\"Bankruptcy Rate (%)\"])\n",
        "print(\"correlation :\",cb)\n",
        "if cb < 0:\n",
        "  print(\"Yes , lower consumer confidence values coincide with higher bankruptcy rates\")\n",
        "else:\n",
        "  print(\"No, lower consumer confidence values does not coincide with higher bankruptcy rates\")"
      ],
      "metadata": {
        "colab": {
          "base_uri": "https://localhost:8080/"
        },
        "id": "lkdzw5kF7pGj",
        "outputId": "b9811dd1-22c8-4f52-8baf-d7fb723b3066"
      },
      "execution_count": 62,
      "outputs": [
        {
          "output_type": "stream",
          "name": "stdout",
          "text": [
            "\n",
            "Q11 Which stock index had the highest average closing price\n",
            "\n",
            "Stock index with highest average closing price :  Dow Jones\n",
            "\n",
            "Q12 What is the relationship between interest rate and unemployement\n",
            "\n",
            "Correlation :  0.01800407213097277\n",
            "yes, they are move in same direction\n",
            "\n",
            "Q13 lower consumer confidence , higher bankruptcy rates\n",
            "\n",
            "correlation : -0.01631304347909408\n",
            "Yes , lower consumer confidence values coincide with higher bankruptcy rates\n"
          ]
        }
      ]
    },
    {
      "cell_type": "code",
      "source": [
        "# Q 14 Which indicator has the highest correlation with stock close price?\n",
        "correlations = df.corr(numeric_only=True)[\"Close Price\"].drop(\"Close Price\")\n",
        "high_corr = correlations.idxmax()\n",
        "print(\"Highest correlation to close price of Indicator :\",high_corr)\n",
        "\n",
        "# Q 15 Are unemployment rates lower when corporate profits are high?\n",
        "uc = df[\"Unemployment Rate (%)\"].corr(df[\"Corporate Profits (Billion USD)\"])\n",
        "print(\"Correlation is :\",uc)"
      ],
      "metadata": {
        "colab": {
          "base_uri": "https://localhost:8080/"
        },
        "id": "N7-8MknI9XsZ",
        "outputId": "f80cb10e-d6bd-459c-94f0-ef49fa956700"
      },
      "execution_count": null,
      "outputs": [
        {
          "output_type": "stream",
          "name": "stdout",
          "text": [
            "Highest correlation to close price of Indicator : Daily High\n",
            "Correlation is : 0.008292414188235562\n"
          ]
        }
      ]
    },
    {
      "cell_type": "code",
      "source": [
        "df1 = pd.read_csv(\"sample_data/Retail_data.csv\")\n",
        "print(df1.head())"
      ],
      "metadata": {
        "id": "_8Pn5jR593Dt",
        "colab": {
          "base_uri": "https://localhost:8080/"
        },
        "outputId": "992cb86c-32c0-413d-daf0-e00dada59d8a"
      },
      "execution_count": null,
      "outputs": [
        {
          "output_type": "stream",
          "name": "stdout",
          "text": [
            "  Order No  Order Date           Customer Name  \\\n",
            "0   4293-1  02-09-2014        Vivek Sundaresam   \n",
            "1   5001-1  24-10-2015          Shahid Hopkins   \n",
            "2   5004-1  13-03-2014           Dennis Pardue   \n",
            "3   5009-1  18-02-2013              Sean Wendt   \n",
            "4   5010-1  13-09-2014  Christina Vanderzanden   \n",
            "\n",
            "                          Address       City State   Customer Type  \\\n",
            "0  152 Bunnerong Road,Eastgardens     Sydney   NSW  Small Business   \n",
            "1   438 Victoria Avenue,Chatswood     Sydney   NSW       Corporate   \n",
            "2        412 Brunswick St,Fitzroy  Melbourne   VIC        Consumer   \n",
            "3        145 Ramsay St,Haberfield     Sydney   NSW  Small Business   \n",
            "4          188 Pitt Street,Sydney     Sydney   NSW  Small Business   \n",
            "\n",
            "  Account Manager Order Priority  \\\n",
            "0    Tina Carlton       Critical   \n",
            "1    Natasha Song         Medium   \n",
            "2    Connor Betts  Not Specified   \n",
            "3     Phoebe Gour       Critical   \n",
            "4    Tina Carlton  Not Specified   \n",
            "\n",
            "                                     Product Name  ... Cost Price  \\\n",
            "0  UGen Ultra Professional Cordless Optical Suite  ...    $156.50   \n",
            "1                             Bagged Rubber Bands  ...      $0.24   \n",
            "2                 TechSavi Cordless Navigator Duo  ...     $42.11   \n",
            "3   Artisan Printable Repositionable Plastic Tabs  ...      $5.33   \n",
            "4                       Pizazz Drawing Pencil Set  ...      $1.53   \n",
            "\n",
            "  Retail Price Profit Margin Order Quantity  Sub Total Discount % Discount $  \\\n",
            "0      $300.97       $144.47           23.0  $4,533.52         2%    $194.83   \n",
            "1        $1.26         $1.02            8.0     $45.20         3%      $0.00   \n",
            "2       $80.98        $38.87           45.0    $873.32         4%     $72.23   \n",
            "3        $8.60         $3.27           16.0     $73.52         1%      $4.35   \n",
            "4        $2.78         $1.25           49.0    $138.46         7%      $5.95   \n",
            "\n",
            "   Order Total Shipping Cost      Total  \n",
            "0    $4,757.22         $7.18  $4,291.55  \n",
            "1       $45.90         $0.70     $46.91  \n",
            "2      $837.57         $7.18     $82.58  \n",
            "3      $740.67         $6.19    $730.92  \n",
            "4      $123.77         $1.34    $125.97  \n",
            "\n",
            "[5 rows x 24 columns]\n"
          ]
        }
      ]
    },
    {
      "cell_type": "code",
      "source": [
        "# Q 1 View the structure of the dataset (columns , types , missing values)\n",
        "summery = pd.DataFrame({\n",
        "    \"Column Name\":df1.columns,\n",
        "    \"Data Type\":df1.dtypes,\n",
        "    \"Missing Values\":df1.isnull().sum()\n",
        "})\n",
        "print(summery)\n",
        "\n",
        "# Q 2 What is the shape (rows,columns) of the dataset\n",
        "print(\"\\nDataset shape is :\",df1.shape)\n",
        "\n",
        "# Q 3 Are there any duplicate records\n",
        "print(\"\\nNumber of duplicate rows :\",df1.duplicated().sum())\n",
        "\n",
        "# Q 4 Check missing value in ship date , order date or numeric columns\n",
        "col_check = [\"Ship Date\",\"Order Date\",\"Cost Price\",\"Retail Price\",\"Profit Margin\", \"Order Quantity\",\n",
        "             \"Sub Total\",\"Discount %\",\"Discount $\",\"Order Total\", \"Shipping Cost\",\"Total\"]\n",
        "print(\"\\nMissing values :\",df1[col_check].isnull().sum())\n",
        "\n",
        "# Q 5 Convert Order Date and Ship Date to datetime\n",
        "df1[\"Order Date\"] = pd.to_datetime(df1[\"Order Date\"],format=\"%d-%m-%Y\")\n",
        "df1[\"Ship Date\"] = pd.to_datetime(df1[\"Ship Date\"],format=\"%d-%m-%Y\")\n",
        "# print(df1)\n",
        "print(df1.dtypes)\n"
      ],
      "metadata": {
        "id": "OPXA_QnrYrcn",
        "colab": {
          "base_uri": "https://localhost:8080/"
        },
        "outputId": "45215f5f-be32-40ab-86e6-4cf5460ce312"
      },
      "execution_count": null,
      "outputs": [
        {
          "output_type": "stream",
          "name": "stdout",
          "text": [
            "                         Column Name Data Type  Missing Values\n",
            "Order No                    Order No    object               0\n",
            "Order Date                Order Date    object               0\n",
            "Customer Name          Customer Name    object               0\n",
            "Address                      Address    object               1\n",
            "City                            City    object               0\n",
            "State                          State    object               0\n",
            "Customer Type          Customer Type    object               0\n",
            "Account Manager      Account Manager    object               0\n",
            "Order Priority        Order Priority    object               0\n",
            "Product Name            Product Name    object               0\n",
            "Product Category    Product Category    object               0\n",
            "Product Container  Product Container    object               0\n",
            "Ship Mode                  Ship Mode    object               0\n",
            "Ship Date                  Ship Date    object               0\n",
            "Cost Price                Cost Price    object               0\n",
            "Retail Price            Retail Price    object               0\n",
            "Profit Margin          Profit Margin    object               0\n",
            "Order Quantity        Order Quantity   float64               1\n",
            "Sub Total                  Sub Total    object               0\n",
            "Discount %                Discount %    object               0\n",
            "Discount $                Discount $    object               0\n",
            "Order Total              Order Total    object               0\n",
            "Shipping Cost          Shipping Cost    object               0\n",
            "Total                          Total    object               0\n",
            "\n",
            "Dataset shape is : (5000, 24)\n",
            "\n",
            "Number of duplicate rows : 0\n",
            "\n",
            "Missing values : Ship Date         0\n",
            "Order Date        0\n",
            "Cost Price        0\n",
            "Retail Price      0\n",
            "Profit Margin     0\n",
            "Order Quantity    1\n",
            "Sub Total         0\n",
            "Discount %        0\n",
            "Discount $        0\n",
            "Order Total       0\n",
            "Shipping Cost     0\n",
            "Total             0\n",
            "dtype: int64\n",
            "Order No                     object\n",
            "Order Date           datetime64[ns]\n",
            "Customer Name                object\n",
            "Address                      object\n",
            "City                         object\n",
            "State                        object\n",
            "Customer Type                object\n",
            "Account Manager              object\n",
            "Order Priority               object\n",
            "Product Name                 object\n",
            "Product Category             object\n",
            "Product Container            object\n",
            "Ship Mode                    object\n",
            "Ship Date            datetime64[ns]\n",
            "Cost Price                   object\n",
            "Retail Price                 object\n",
            "Profit Margin                object\n",
            "Order Quantity              float64\n",
            "Sub Total                    object\n",
            "Discount %                   object\n",
            "Discount $                   object\n",
            "Order Total                  object\n",
            "Shipping Cost                object\n",
            "Total                        object\n",
            "dtype: object\n"
          ]
        }
      ]
    },
    {
      "cell_type": "code",
      "source": [
        "# Q 6 Check for future or inconsistent shipping dates\n",
        "today = pd.Timestamp.today()\n",
        "shipping_before = df1[df1[\"Ship Date\"] < df1[\"Order Date\"]]\n",
        "shipping_future = df1[df1[\"Ship Date\"] > today]\n",
        "print(\"Shipping before order date \\n\")\n",
        "print(shipping_before)\n",
        "print(\"Shipping in future :\")\n",
        "print(shipping_future)"
      ],
      "metadata": {
        "colab": {
          "base_uri": "https://localhost:8080/"
        },
        "id": "ig_bL88hobz0",
        "outputId": "d258b503-cb01-4c84-858d-6032184db8f6"
      },
      "execution_count": null,
      "outputs": [
        {
          "output_type": "stream",
          "name": "stdout",
          "text": [
            "Shipping before order date \n",
            "\n",
            "     Order No Order Date      Customer Name  \\\n",
            "12     5018-1 2013-12-29     Lena Creighton   \n",
            "87     5042-1 2013-06-25         Karl Brown   \n",
            "107    5055-1 2013-09-11     Liz Willingham   \n",
            "149    5070-1 2014-10-29    Mike Gockenbach   \n",
            "204    5106-1 2014-09-04        Cyma Kinney   \n",
            "...       ...        ...                ...   \n",
            "4685   6482-1 2016-11-09  Cassandra Brandow   \n",
            "4710   6496-1 2015-08-31      Henny Holldon   \n",
            "4881   6543-1 2015-09-17         Tony Sayre   \n",
            "4959   6574-1 2017-01-30  Michelle Huthwait   \n",
            "4972   6584-1 2015-08-24     Michael Oakman   \n",
            "\n",
            "                                      Address       City State  \\\n",
            "12                    127 Liverpool St,Sydney     Sydney   NSW   \n",
            "87                 470 Anzac Parade,Kingsford     Sydney   NSW   \n",
            "107                  60 Commercial Rd,Prahran  Melbourne   VIC   \n",
            "149                  224A Gertrude St,Fitzroy  Melbourne   VIC   \n",
            "204   Sydney Fish Market, Bank Street, Sydney     Sydney   NSW   \n",
            "...                                       ...        ...   ...   \n",
            "4685          106 Ebley Street,Bondi Junction     Sydney   NSW   \n",
            "4710                      531 King St,Newtown     Sydney   NSW   \n",
            "4881       499-501 Lygon Street,Carlton North  Melbourne   VIC   \n",
            "4959           834 Bourke Street,Darlinghurst     Sydney   NSW   \n",
            "4972                8 Rankins Lane ,Melbourne  Melbourne   VIC   \n",
            "\n",
            "       Customer Type   Account Manager Order Priority  \\\n",
            "12    Small Business   Samantha Chairs            Low   \n",
            "87       Home Office      Tina Carlton           High   \n",
            "107        Corporate       Yvette Biti  Not Specified   \n",
            "149        Corporate      Connor Betts            Low   \n",
            "204   Small Business       Phoebe Gour           High   \n",
            "...              ...               ...            ...   \n",
            "4685       Corporate  Leighton Forrest       Critical   \n",
            "4710       Corporate       Mihael Khan         Medium   \n",
            "4881  Small Business       Yvette Biti  Not Specified   \n",
            "4959       Corporate       Charlie Bui         Medium   \n",
            "4972        Consumer      Connor Betts            Low   \n",
            "\n",
            "                                           Product Name  ... Cost Price  \\\n",
            "12    TypeRight Side-Opening Peel & Seel Expanding E...  ...     $54.29   \n",
            "87                                      Alto Memo Cubes  ...      $3.32   \n",
            "107     Smiths Premium Bright 1-Pary Blumk Carr Poncils  ...      $1.59   \n",
            "149                           Smiths Standard Envelopes  ...      $3.52   \n",
            "204                     TechSavi Cordless Navigator Duo  ...     $42.11   \n",
            "...                                                 ...  ...        ...   \n",
            "4685                   Creator Anti Dust Chalk, 12/Pack  ...      $1.09   \n",
            "4710  Angle-D Binders with Locking Rings, Label Holders  ...      $4.53   \n",
            "4881                   Steady Major Accent Highlighters  ...      $3.75   \n",
            "4959               Adesso Programmable 142-Key Keyboard  ...     $32.02   \n",
            "4972                            Artisan Durable Binders  ...      $1.84   \n",
            "\n",
            "     Retail Price Profit Margin Order Quantity   Sub Total Discount %  \\\n",
            "12         $90.48        $36.19            1.0   $1,029.50         2%   \n",
            "87          $5.18         $1.86           30.0     $130.42         9%   \n",
            "107         $3.28         $1.71            1.0     $356.12         0%   \n",
            "149         $5.68         $2.16           29.0      $91.14         3%   \n",
            "204        $80.98        $38.87           29.0  $11,447.56         3%   \n",
            "...           ...           ...            ...         ...        ...   \n",
            "4685        $1.82         $0.73            8.0      $72.80         4%   \n",
            "4710        $7.30         $2.77           41.0     $639.36         6%   \n",
            "4881        $7.08         $3.33           38.0     $223.81         0%   \n",
            "4959      $152.48       $120.46           39.0     $622.34         4%   \n",
            "4972        $2.88         $1.04           19.0      $43.78         9%   \n",
            "\n",
            "     Discount $  Order Total Shipping Cost       Total  \n",
            "12       $30.82    $1,762.54        $19.99   $1,740.57  \n",
            "87        $3.01      $128.43         $2.04     $129.03  \n",
            "107       $0.00      $356.12         $0.98     $362.47  \n",
            "149       $5.65       $87.49         $1.39      $88.39  \n",
            "204   $1,123.97   $11,146.33         $7.18  $11,183.15  \n",
            "...         ...          ...           ...         ...  \n",
            "4685      $3.64       $69.16         $1.00      $70.16  \n",
            "4710     $40.76      $691.56         $7.72     $628.37  \n",
            "4881     $12.44      $221.53         $2.35     $226.53  \n",
            "4959     $32.73      $660.83         $4.00     $678.48  \n",
            "4972      $4.06       $42.14         $1.49      $43.93  \n",
            "\n",
            "[75 rows x 24 columns]\n",
            "Shipping in future :\n",
            "Empty DataFrame\n",
            "Columns: [Order No, Order Date, Customer Name, Address, City, State, Customer Type, Account Manager, Order Priority, Product Name, Product Category, Product Container, Ship Mode, Ship Date, Cost Price, Retail Price, Profit Margin, Order Quantity, Sub Total, Discount %, Discount $, Order Total, Shipping Cost, Total]\n",
            "Index: []\n",
            "\n",
            "[0 rows x 24 columns]\n"
          ]
        }
      ]
    },
    {
      "cell_type": "code",
      "source": [
        "# Q 7 Convert price columns to numeric (remove $ and commas)\n",
        "price_columns = [\"Cost Price\",\"Retail Price\",\"Discount $\",\"Profit Margin\",\"Discount %\",\"Order Total\",\"Shipping Cost\",\"Sub Total\",\"Total\"]\n",
        "for col in price_columns:\n",
        "  if df1[col].dtype == \"object\":\n",
        "    df1[col] = df1[col].str.replace(r\"[\\$,%]\",\"\",regex=True).astype(float)\n",
        "  else:\n",
        "    df1[col]=df1[col].astype(float)\n",
        "print(df1[price_columns].dtypes)\n",
        "\n",
        "# Q 8 What are unique values in Customer Type and Order Priority?\n",
        "print(\"\\nCustomer type unique valuee :\",df1[\"Customer Type\"].value_counts())\n",
        "print(\"\\nOrder Priority unique value :\",df1[\"Order Priority\"].value_counts())\n",
        "\n",
        "# Q 9 What are the most common shipping modes?\n",
        "print(\"\\nCommon Shipping modes :\",df1[\"Ship Mode\"].value_counts())\n",
        "\n",
        "# Q 10 Which cities have the highest number of orders?\n",
        "city = df1[\"City\"].value_counts()\n",
        "top_city = city.idxmax()\n",
        "top_count = city.max()\n",
        "print(f\"\\n City have highest number of orders : {top_city} {top_count}\")\n"
      ],
      "metadata": {
        "id": "b9bLh-Yfuk3E",
        "colab": {
          "base_uri": "https://localhost:8080/"
        },
        "outputId": "d77d8fa1-a888-4ae9-83d6-5d2c741830dd"
      },
      "execution_count": null,
      "outputs": [
        {
          "output_type": "stream",
          "name": "stdout",
          "text": [
            "Cost Price       float64\n",
            "Retail Price     float64\n",
            "Discount $       float64\n",
            "Profit Margin    float64\n",
            "Discount %       float64\n",
            "Order Total      float64\n",
            "Shipping Cost    float64\n",
            "Sub Total        float64\n",
            "Total            float64\n",
            "dtype: object\n",
            "\n",
            "Customer type unique valuee : Customer Type\n",
            "Corporate         1823\n",
            "Home Office       1232\n",
            "Small Business    1088\n",
            "Consumer           857\n",
            "Name: count, dtype: int64\n",
            "\n",
            "Order Priority unique value : Order Priority\n",
            "High             1124\n",
            "Not Specified    1092\n",
            "Medium           1038\n",
            "Critical          885\n",
            "Low               861\n",
            "Name: count, dtype: int64\n",
            "\n",
            "Common Shipping modes : Ship Mode\n",
            "Regular Air       4236\n",
            "Express Air        647\n",
            "Delivery Truck     117\n",
            "Name: count, dtype: int64\n",
            "\n",
            " City have highest number of orders : Sydney 3584\n"
          ]
        }
      ]
    },
    {
      "cell_type": "code",
      "source": [
        "# Q 11 what's the range of order quantities and prices?\n",
        "order_range = df1[\"Order Quantity\"].max() - df1[\"Order Quantity\"].min()\n",
        "price_range = df1[\"Retail Price\"].max() - df1[\"Retail Price\"].min()\n",
        "print(f\"\\nOrder Quantity range : {order_range}\")\n",
        "print(f\"Range of Retail Price : {price_range}\")\n",
        "\n",
        "# Q 12 Create a new column for shipping duration.\n",
        "print(\"\\n Shipping column add\")\n",
        "df1[\"Shipping Duration\"] = (df1[\"Ship Date\"]-df1[\"Order Date\"]).dt.days\n",
        "print(df1[[\"Order Date\",\"Ship Date\",\"Shipping Duration\"]].head()) # [[]] double square bracket used for select multiple columns\n",
        "\n",
        "# Q 13 Are there any orders with zero or negative total or quantity?\n",
        "invalid_order =  df1[(df1[\"Order Quantity\"] <= 0) | (df1[\"Order Total\"]<=0)]\n",
        "print(\"\\n\",invalid_order)\n",
        "\n",
        "# Q 14 Are all discount percentages matching discount dollar amounts?\n",
        "expected_discount = df1[\"Sub Total\"]*df1[\"Discount %\"]/100\n",
        "check = abs(df1[\"Discount $\"]-expected_discount)<0.01\n",
        "print(\"All match :\",not check.all()) # not used for all rows are correct (if atleast one row incorrect then return false)\n",
        "                                      #Without not if return false then no mismath exist all row correct\n",
        "\n",
        "# Q 15 Check for mismatches in total calculation\n",
        "expected_total = df1[\"Sub Total\"]-df1[\"Discount $\"]+df1[\"Shipping Cost\"]\n",
        "mismatch = abs(df1[\"Total\"]-expected_total) >0.01\n",
        "print(\"\\nAre all totals correct :\",not mismatch.any())"
      ],
      "metadata": {
        "colab": {
          "base_uri": "https://localhost:8080/"
        },
        "id": "GR-Qf8XA8gxO",
        "outputId": "280641f4-1618-473d-d263-01ab6033f72b"
      },
      "execution_count": null,
      "outputs": [
        {
          "output_type": "stream",
          "name": "stdout",
          "text": [
            "\n",
            "Order Quantity range : 49.0\n",
            "Range of Retail Price : 598.85\n",
            "\n",
            " Shipping column add\n",
            "  Order Date  Ship Date  Shipping Duration\n",
            "0 2014-09-02 2014-09-04                  2\n",
            "1 2015-10-24 2015-10-26                  2\n",
            "2 2014-03-13 2014-03-13                  0\n",
            "3 2013-02-18 2013-02-20                  2\n",
            "4 2014-09-13 2014-09-17                  4\n",
            "\n",
            " Empty DataFrame\n",
            "Columns: [Order No, Order Date, Customer Name, Address, City, State, Customer Type, Account Manager, Order Priority, Product Name, Product Category, Product Container, Ship Mode, Ship Date, Cost Price, Retail Price, Profit Margin, Order Quantity, Sub Total, Discount %, Discount $, Order Total, Shipping Cost, Total, Shipping Duration]\n",
            "Index: []\n",
            "\n",
            "[0 rows x 25 columns]\n",
            "All match : True\n",
            "\n",
            "Are all totals correct : False\n"
          ]
        }
      ]
    },
    {
      "cell_type": "code",
      "source": [
        "# Q 16 Identify top 5 products by order quantity\n",
        "print(\"\\n Q16\")\n",
        "top_products = df1.groupby(\"Product Name\")[\"Order Quantity\"].sum()\n",
        "top_products = top_products.sort_values(ascending=False).head(5)\n",
        "print(\" Top 5 products \\n\",top_products)\n",
        "\n",
        "# Q 17 Which Account Manager handled the most revenue ?\n",
        "print(\"\\nQ17 \")\n",
        "revenue = df1.groupby(\"Account Manager\")[\"Total\"].sum()\n",
        "top_manager = revenue.sort_values(ascending=False).head(1)\n",
        "print(\"\\n\",top_manager)\n",
        "\n",
        "# Q 18 What is the average shipping cost by mode?\n",
        "print(\"\\n Q18\")\n",
        "avg_shipping = df1.groupby(\"Ship Mode\")[\"Shipping Cost\"].mean()\n",
        "print(\"\\n Average shipping cost by mode \\n\",avg_shipping)\n",
        "\n",
        "# Q 19 Find the most profitable product.\n",
        "print(\"\\n Q 19\")\n",
        "df1[\"Total Profit\"] = df1[\"Sub Total\"] - (df1[\"Cost Price\"]*df1[\"Order Quantity\"])\n",
        "product_profit = df1.groupby(\"Product Name\")[\"Total Profit\"].sum()\n",
        "most_profitable = product_profit.idxmax()\n",
        "max_profit = product_profit.max()\n",
        "print(\"\\nMost profitable product:\",most_profitable)\n",
        "print(\"\\nTotal profit : \",max_profit)"
      ],
      "metadata": {
        "colab": {
          "base_uri": "https://localhost:8080/"
        },
        "id": "rzC4eISiZMYU",
        "outputId": "35721ec1-6bb3-4b18-efc3-7d49b4909e18"
      },
      "execution_count": null,
      "outputs": [
        {
          "output_type": "stream",
          "name": "stdout",
          "text": [
            "\n",
            " Q16\n",
            " Top 5 products \n",
            " Product Name\n",
            "Artisan 474 Labels                         3395.0\n",
            "Smiths General Use 3-Ring Binders          3220.0\n",
            "Artisan 479 Labels                         3039.0\n",
            "Artisan 481 Labels                         2996.0\n",
            "Apex Preferred Stainless Steel Scissors    2896.0\n",
            "Name: Order Quantity, dtype: float64\n",
            "\n",
            "Q17 \n",
            "\n",
            " Account Manager\n",
            "Connor Betts    671173.17\n",
            "Name: Total, dtype: float64\n",
            "\n",
            " Q18\n",
            "\n",
            " Average shipping cost by mode \n",
            " Ship Mode\n",
            "Delivery Truck    5.270085\n",
            "Express Air       5.247311\n",
            "Regular Air       5.503553\n",
            "Name: Shipping Cost, dtype: float64\n",
            "\n",
            " Q 19\n",
            "\n",
            "Most profitable product: Adesso Programmable 142-Key Keyboard\n",
            "\n",
            "Total profit :  208587.75999999998\n"
          ]
        }
      ]
    },
    {
      "cell_type": "code",
      "source": [
        "# Q 1 What is the total revenue generated across all orders?\n",
        "total_rev = df1[\"Order Total\"].sum()\n",
        "print(\"Q 1 Total revenue across all orders\")\n",
        "print(\"Total revenue : \",total_rev)\n",
        "\n",
        "# Q 2 Which customer type generates more revenue\n",
        "print(\"\\nQ 2 Customer type generates more revenue\")\n",
        "revenue_cust = df1.groupby(\"Customer Type\")[\"Order Total\"].sum()\n",
        "print(\"Customer with highst revenue : \",revenue_cust)\n",
        "\n",
        "# Q 3 How does order priority affect revenue\n",
        "print(\"\\nQ3 Order priority affect revenue \\n\")\n",
        "revenue_priority = df1.groupby(\"Order Priority\")[\"Order Total\"].sum()\n",
        "print(\"Revenue by order priority :\\n\",revenue_priority)\n",
        "\n",
        "# Q4 What is average profit margin by product category\n",
        "print(\"\\nQ4 Average profit margin by product category\\n\")\n",
        "profit_margin = df1.groupby(\"Product Category\")[\"Profit Margin\"].mean()\n",
        "print(profit_margin)\n",
        "\n",
        "# Q5 What is the most profitable product overall\n",
        "df1[\"Total Profit\"] = df1[\"Profit Margin\"]*df1[\"Order Quantity\"]\n",
        "most_profit = df1.groupby(\"Product Name\")[\"Total Profit\"].sum()\n",
        "print(\"\\nQ5 Most profitable product overall\")\n",
        "print(\"Most Profitable Product : \\n\",most_profit)"
      ],
      "metadata": {
        "colab": {
          "base_uri": "https://localhost:8080/"
        },
        "id": "ZhXd0p0vgTcS",
        "outputId": "cbe826d6-28f7-4375-e17e-8fb99fccb7b3"
      },
      "execution_count": null,
      "outputs": [
        {
          "output_type": "stream",
          "name": "stdout",
          "text": [
            "Q 1 Total revenue across all orders\n",
            "Total revenue :  3808999.85\n",
            "\n",
            "Q 2 Customer type generates more revenue\n",
            "Customer with highst revenue :  Customer Type\n",
            "Consumer           734848.79\n",
            "Corporate         1352669.38\n",
            "Home Office        871795.73\n",
            "Small Business     849685.95\n",
            "Name: Order Total, dtype: float64\n",
            "\n",
            "Q3 Order priority affect revenue \n",
            "\n",
            "Revenue by order priority :\n",
            " Order Priority\n",
            "Critical         741607.62\n",
            "High             799913.49\n",
            "Low              645943.00\n",
            "Medium           795910.24\n",
            "Not Specified    825625.50\n",
            "Name: Order Total, dtype: float64\n",
            "\n",
            "Q4 Average profit margin by product category\n",
            "\n",
            "Product Category\n",
            "Furniture          12.701953\n",
            "Office Supplies    17.682609\n",
            "Technology         20.423208\n",
            "Name: Profit Margin, dtype: float64\n",
            "\n",
            "Q5 Most profitable product overall\n",
            "Most Profitable Product : \n",
            " Product Name\n",
            "\"Adams \"\"While You Were Out\"\" Message Pads\"           64.26\n",
            "\"Addiss Metal Binder Clips                            12.24\n",
            "1 Stacking Storage Drawers                           457.05\n",
            "1-, Tonkins Steel Grame                              194.88\n",
            "10 Colored Short Pencils                               7.55\n",
            "                                                    ...    \n",
            "UGen Ultra Professional Cordless Optical Suite    182940.72\n",
            "Unpadded Memo Slips                                  339.16\n",
            "Wirebound Message Book, 4 per Page                  1328.92\n",
            "Wirebound Voice Message Log Book                    2380.80\n",
            "Xit Blank Computer Paper                            5072.15\n",
            "Name: Total Profit, Length: 257, dtype: float64\n"
          ]
        }
      ]
    },
    {
      "cell_type": "code",
      "source": [
        "# Q6  How many days does it usually take to ship an order?\n",
        "\n",
        "avg_duration = df1[\"Shipping Duration\"].mean()\n",
        "print(\"\\nQ6 Average shipping duration \\n\")\n",
        "print(\"Ans : \",avg_duration)\n",
        "\n",
        "# Q7 Do longer shippinh times impact profit margins\n",
        "print(\"\\nQ7 Do longer shippinh times impact profit margins\")\n",
        "cor_shipping = df1[\"Shipping Duration\"].corr(df1[\"Profit Margin\"])\n",
        "print(\"Ans : \",cor_shipping)\n",
        "if cor_shipping > 0:\n",
        "  print(\"Yes longer shipping times impact profit margins\")\n",
        "else :\n",
        "  print(\"No longer shipping times does not impact profit margins\")\n",
        "\n",
        "# Q8 Which city brings in the highest revenue?\n",
        "print(\"\\nQ8 City with highest revenue\\n\")\n",
        "city_revenue = df1.groupby(\"City\")[\"Order Total\"].sum()\n",
        "print(\"Ans : \",city_revenue.idxmax())\n",
        "\n",
        "# Q9 Which account manager generated the most revenue?\n",
        "revenue_manager = df1.groupby(\"Account Manager\")[\"Order Total\"].sum()\n",
        "print(\"\\nQ9 Account manager with most revenue\")\n",
        "print(\"Ans : \",revenue_manager.idxmax())\n",
        "\n",
        "# Q10  Which shipping mode is most cost-effective (lowest avg. shipping)?\n",
        "print(\"\\nQ10 Most cost-effective shipping mode\")\n",
        "avg_lowest_shipping = df1.groupby(\"Ship Mode\")[\"Shipping Cost\"].mean()\n",
        "print(\"Ans : \",avg_lowest_shipping.idxmin())"
      ],
      "metadata": {
        "colab": {
          "base_uri": "https://localhost:8080/"
        },
        "id": "FUlPwIjBGoWm",
        "outputId": "1cf1b415-af60-4312-d51e-93c2520e22e4"
      },
      "execution_count": null,
      "outputs": [
        {
          "output_type": "stream",
          "name": "stdout",
          "text": [
            "\n",
            "Q6 Average shipping duration \n",
            "\n",
            "Ans :  1.8356\n",
            "\n",
            "Q7 Do longer shippinh times impact profit margins\n",
            "Ans :  -0.01978703518675135\n",
            "No longer shipping times does not impact profit margins\n",
            "\n",
            "Q8 City with highest revenue\n",
            "\n",
            "Ans :  Sydney\n",
            "\n",
            "Q9 Account manager with most revenue\n",
            "Ans :  Connor Betts\n",
            "\n",
            "Q10 Most cost-effective shipping mode\n",
            "Ans :  Express Air\n"
          ]
        }
      ]
    },
    {
      "cell_type": "code",
      "source": [
        "# Q 11 Do higher discounts reduce profits?\n",
        "print(\"\\nQ11 Higher discounts reduce profits\\n\")\n",
        "cor_dic = df1[\"Discount %\"].corr(df1[\"Total Profit\"])\n",
        "print(\"Ans : \",cor_dic)\n",
        "if cor_dic > 0:\n",
        "  print(\"Yes higher discounts reduce profits\")\n",
        "elif cor_dic < 0:\n",
        "  print(\"No higher discounts does not reduce profits\")\n",
        "else:\n",
        "  print(\"There is no significant relationship between discounts\")\n",
        ""
      ],
      "metadata": {
        "id": "lOeTsZPcLECs",
        "colab": {
          "base_uri": "https://localhost:8080/"
        },
        "outputId": "d6cee041-f033-44a2-ba9b-97c9c4e34cf4"
      },
      "execution_count": 46,
      "outputs": [
        {
          "output_type": "stream",
          "name": "stdout",
          "text": [
            "\n",
            "Q11 Higher discounts reduce profits\n",
            "\n",
            "Ans :  -0.015493075455387586\n",
            "No higher discounts does not reduce profits\n"
          ]
        }
      ]
    },
    {
      "cell_type": "code",
      "source": [
        "# Q 12 Which state has the highest number of orders?\n",
        "print(\"Q12 state has the highest number of orders\\n\")\n",
        "state_counts = df1[\"State\"].value_counts()\n",
        "top_state = state_counts.idxmax()\n",
        "top_orders = state_counts.max()\n",
        "print(\"State with highest order :\",top_state)\n",
        "print(\"Number of orders :\",top_orders)\n",
        "\n",
        "# Q 13 What is the average discount % across all orders?\n",
        "avg_dis = df1[\"Discount %\"].mean()\n",
        "print(\"\\nQ13 average discount across all orders\\n\")\n",
        "print(\"Average discount :\",avg_dis)"
      ],
      "metadata": {
        "colab": {
          "base_uri": "https://localhost:8080/"
        },
        "id": "FwTg1ShgWE0r",
        "outputId": "1a8eee81-a91b-4a98-febc-b6838a7ad9d6"
      },
      "execution_count": 49,
      "outputs": [
        {
          "output_type": "stream",
          "name": "stdout",
          "text": [
            "Q12 state has the highest number of orders\n",
            "\n",
            "State with highest order : NSW\n",
            "Number of orders : 3584\n",
            "\n",
            "Q13 average discount across all orders\n",
            "\n",
            "Average discount : 5.0338\n"
          ]
        }
      ]
    },
    {
      "cell_type": "code",
      "source": [
        "# Q 14 What is the average total spend per order?\n",
        "avg_spend = df1[\"Order Total\"].mean()\n",
        "print(\"\\nQ14 Average total spend per order\\n\")\n",
        "print(\"Average spend :\",avg_spend)\n",
        "\n",
        "# Q 15 Are certain containers (e.g., Small Box, Wrap Bag) more profitable?\n",
        "container = df1.groupby(\"Product Container\")[\"Total Profit\"].mean().sort_values(ascending=False)\n",
        "print(\"\\nQ15 Are certain containers more profitable\")\n",
        "print(container)"
      ],
      "metadata": {
        "colab": {
          "base_uri": "https://localhost:8080/"
        },
        "id": "Mb1LyJeSYb-v",
        "outputId": "6a1af54f-e5a7-4e20-813f-9a24ee4c249d"
      },
      "execution_count": 52,
      "outputs": [
        {
          "output_type": "stream",
          "name": "stdout",
          "text": [
            "\n",
            "Q14 Average total spend per order\n",
            "\n",
            "Average spend : 761.79997\n",
            "\n",
            "Q15 Are certain containers more profitable\n",
            "Product Container\n",
            "Small Box     513.833058\n",
            "Jumbo Drum    490.171368\n",
            "Wrap Bag      488.048668\n",
            "Small Pack    435.253503\n",
            "Large Box     304.592786\n",
            "Medium Box    301.818899\n",
            "Name: Total Profit, dtype: float64\n"
          ]
        }
      ]
    }
  ]
}