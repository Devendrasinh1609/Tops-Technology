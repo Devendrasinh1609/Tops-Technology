{
  "nbformat": 4,
  "nbformat_minor": 0,
  "metadata": {
    "colab": {
      "provenance": []
    },
    "kernelspec": {
      "name": "python3",
      "display_name": "Python 3"
    },
    "language_info": {
      "name": "python"
    }
  },
  "cells": [
    {
      "cell_type": "code",
      "execution_count": 3,
      "metadata": {
        "id": "VbunqH3WAPAR"
      },
      "outputs": [],
      "source": [
        "import numpy as np"
      ]
    },
    {
      "cell_type": "code",
      "source": [
        "# Q1. 3d array of shape (2,3,4) filled with int 1-24\n",
        "ar1 = np.arange(1,25).reshape(2,3,4)\n",
        "print(ar1)\n",
        "\n",
        "# Q2. 5 x 5 with random iny 10-50, extract evens\n",
        "evenarray = np.random.randint(10,50,size = (5,5))\n",
        "even = evenarray[evenarray % 2 == 0]\n",
        "print(\"\\n Q2 \\n\",evenarray)\n",
        "print(\"\\n Even num :\",even)\n",
        "\n",
        "# Q3. Create two arrays a = np.arange(1,13).reshape(3,4) and b = np.array([10,20,30,40])\n",
        "#     Use broadcasting to add b to each row of a\n",
        "print(\"\\n Q3 broadcasting to add b to each row of a \\n\")\n",
        "a = np.arange(1,13).reshape(3,4)\n",
        "b = np.array([10,20,30,40])\n",
        "s = a + b\n",
        "print(s)\n",
        "\n",
        "# Q4. Construct a 6 x 6 identity matrix and replace its secondary diagonal (from top - right to bottol left)\n",
        "print(\"\\n Q6 replace secondary diagonal (from top-right to bottom-left)\")\n",
        "ar4 = np.eye(6,dtype=int)\n",
        "print(ar4)\n",
        "ar4[np.arange(6),np.arange(5,-1,-1)] = 7\n",
        "print()\n",
        "print(ar4)\n",
        "\n",
        "# Q5. Generate 20 linearly spaced numbers between -5 and 5. Reshape into (4,5) array\n",
        "#     and extract only the elements greater than 0.\n",
        "print(\"\\n Q5 extract only elements greater than 0\")\n",
        "ar5 = np.linspace(-5,5,20).reshape(4,5)\n",
        "greater_zero = ar5[ar5 > 0]\n",
        "print(ar5)\n",
        "print()\n",
        "print(greater_zero)"
      ],
      "metadata": {
        "colab": {
          "base_uri": "https://localhost:8080/"
        },
        "id": "N5zBnas4A4ap",
        "outputId": "8a5cab87-90a5-4857-ca3e-6f975401a3a1"
      },
      "execution_count": null,
      "outputs": [
        {
          "output_type": "stream",
          "name": "stdout",
          "text": [
            "[[[ 1  2  3  4]\n",
            "  [ 5  6  7  8]\n",
            "  [ 9 10 11 12]]\n",
            "\n",
            " [[13 14 15 16]\n",
            "  [17 18 19 20]\n",
            "  [21 22 23 24]]]\n",
            "\n",
            " Q2 \n",
            " [[25 44 14 27 24]\n",
            " [48 13 41 12 39]\n",
            " [44 26 44 46 33]\n",
            " [41 15 20 23 25]\n",
            " [18 18 11 26 19]]\n",
            "\n",
            " Even num : [44 14 24 48 12 44 26 44 46 20 18 18 26]\n",
            "\n",
            " Q3 broadcasting to add b to each row of a \n",
            "\n",
            "[[11 22 33 44]\n",
            " [15 26 37 48]\n",
            " [19 30 41 52]]\n",
            "\n",
            " Q6 replace secondary diagonal (from top-right to bottom-left)\n",
            "[[1 0 0 0 0 0]\n",
            " [0 1 0 0 0 0]\n",
            " [0 0 1 0 0 0]\n",
            " [0 0 0 1 0 0]\n",
            " [0 0 0 0 1 0]\n",
            " [0 0 0 0 0 1]]\n",
            "\n",
            "[[1 0 0 0 0 7]\n",
            " [0 1 0 0 7 0]\n",
            " [0 0 1 7 0 0]\n",
            " [0 0 7 1 0 0]\n",
            " [0 7 0 0 1 0]\n",
            " [7 0 0 0 0 1]]\n",
            "\n",
            " Q5 extract only elements greater than 0\n",
            "[[-5.         -4.47368421 -3.94736842 -3.42105263 -2.89473684]\n",
            " [-2.36842105 -1.84210526 -1.31578947 -0.78947368 -0.26315789]\n",
            " [ 0.26315789  0.78947368  1.31578947  1.84210526  2.36842105]\n",
            " [ 2.89473684  3.42105263  3.94736842  4.47368421  5.        ]]\n",
            "\n",
            "[0.26315789 0.78947368 1.31578947 1.84210526 2.36842105 2.89473684\n",
            " 3.42105263 3.94736842 4.47368421 5.        ]\n"
          ]
        }
      ]
    },
    {
      "cell_type": "code",
      "source": [
        "# Q6. Create 4 x 4 array with numbers from 1 to 16. Swap the first and last rows using slicing\n",
        "print(\"\\n Q6 Slicing to swap first and last rows\")\n",
        "ar6 = np.arange(1,17).reshape(4,4)\n",
        "print(ar6,\"\\n\")\n",
        "ar6[[0,-1]] = ar6[[-1,0]] # [[0,-1]] -> 0 = first row , -1 = last row\n",
        "print(ar6)\n",
        "\n",
        "# Q7. Create 10 x 10 array with random floats between 0 and 1, then find the row with the maximum sum\n",
        "print(\"\\n Q6 Maximum sum\")\n",
        "ar7 = np.random.rand(10,10)\n",
        "print(ar7)\n",
        "print()\n",
        "max_row = np.argmax(np.sum(ar7,axis=1))\n",
        "print(\"\\n Maximum sum row :\",max_row)\n",
        "print(\"Maximun sum row :\",ar7[max_row])"
      ],
      "metadata": {
        "colab": {
          "base_uri": "https://localhost:8080/"
        },
        "id": "ILodCT3YIHxN",
        "outputId": "54a8dc96-6970-424d-ac06-273ffe66ad22"
      },
      "execution_count": null,
      "outputs": [
        {
          "output_type": "stream",
          "name": "stdout",
          "text": [
            "\n",
            " Q6 Slicing to swap first and last rows\n",
            "[[ 1  2  3  4]\n",
            " [ 5  6  7  8]\n",
            " [ 9 10 11 12]\n",
            " [13 14 15 16]] \n",
            "\n",
            "[[13 14 15 16]\n",
            " [ 5  6  7  8]\n",
            " [ 9 10 11 12]\n",
            " [ 1  2  3  4]]\n",
            "\n",
            " Q6 Maximum sum\n",
            "[[0.0196576  0.64430922 0.6374547  0.04924748 0.45318111 0.29233036\n",
            "  0.49791735 0.16384892 0.35709776 0.79956648]\n",
            " [0.43508397 0.90594569 0.80422309 0.00800883 0.83450562 0.90440911\n",
            "  0.28673735 0.00576592 0.56889693 0.22166552]\n",
            " [0.66416513 0.50765756 0.022056   0.52682877 0.22442919 0.72969035\n",
            "  0.24982476 0.05114732 0.96258265 0.45402248]\n",
            " [0.94957634 0.45128051 0.11426464 0.3524716  0.7781105  0.01552668\n",
            "  0.89169634 0.63906082 0.66307106 0.16503108]\n",
            " [0.44130783 0.34420689 0.62641261 0.56799936 0.06929025 0.53309575\n",
            "  0.10814339 0.31942938 0.30366325 0.8445188 ]\n",
            " [0.86713025 0.09162301 0.40554746 0.3087861  0.25952427 0.52077846\n",
            "  0.11731845 0.11794432 0.99883518 0.07958416]\n",
            " [0.7882493  0.30839345 0.37740475 0.18281647 0.81836203 0.62616343\n",
            "  0.30479631 0.712387   0.09235632 0.59362751]\n",
            " [0.42129107 0.16697565 0.34100665 0.14643186 0.88287516 0.20235601\n",
            "  0.30122554 0.45455289 0.71523185 0.09998836]\n",
            " [0.53940919 0.35158363 0.4781637  0.40523786 0.78752626 0.20966676\n",
            "  0.73456252 0.44471864 0.91895439 0.90589762]\n",
            " [0.58681672 0.39061069 0.72535306 0.15719562 0.23370508 0.72908064\n",
            "  0.77727213 0.26774014 0.83036126 0.62849209]]\n",
            "\n",
            "\n",
            " Maximum sum row : 8\n",
            "Maximun sum row : [0.53940919 0.35158363 0.4781637  0.40523786 0.78752626 0.20966676\n",
            " 0.73456252 0.44471864 0.91895439 0.90589762]\n"
          ]
        }
      ]
    },
    {
      "cell_type": "code",
      "source": [
        "# Q8. Given arr = np.arange(1,26).reshape(5,5) , extract the sunmatrix of even numbers only keeping their 2d structure\n",
        "print(\"Q8 Submatrix with ecen number\")\n",
        "ar8 = np.arange(1,26).reshape(5,5)\n",
        "even_2d = np.where(ar8 % 2 ==0 , ar8 , 0)\n",
        "print(\"\\nSubmatrix with even number:\\n\",even_2d)\n",
        "\n",
        "# Q9. Generate two arrays a = np.array([1,2,3]) and b = np.array([[10],[20],[30]]).\n",
        "#     Perform amultiplication using broadcasting and explain the result\n",
        "a1 = np.array([1,2,3])\n",
        "a2 = np.array([[10],[20],[30]])\n",
        "mul = a1 * a2\n",
        "print(\"\\nQ9 Multipilaction using broadcasting\")\n",
        "print(\"Multiplication using broadcasting :\\n\",mul)\n",
        "\n",
        "# Q10. Create a diagonal matrix with values [5,10,15,20]. Then convert it into a full 4 x 4\n",
        "#       where diagonal valus remain but others ard filled with -1\n",
        "print(\"\\n Q10 diagonal\\n\")\n",
        "diag = [5,10,15,20]\n",
        "ar10 = np.full((4,4),-1)\n",
        "np.fill_diagonal(ar10,diag) # ar10-> array whose diagonal fill , diag->value to place on diagonal\n",
        "print(ar10)"
      ],
      "metadata": {
        "colab": {
          "base_uri": "https://localhost:8080/"
        },
        "id": "nsoTDqK5NU-K",
        "outputId": "efd7222a-05b4-419b-e9cf-8528b0b06b9e"
      },
      "execution_count": null,
      "outputs": [
        {
          "output_type": "stream",
          "name": "stdout",
          "text": [
            "Q8 Submatrix with ecen number\n",
            "\n",
            "Submatrix with even number:\n",
            " [[ 0  2  0  4  0]\n",
            " [ 6  0  8  0 10]\n",
            " [ 0 12  0 14  0]\n",
            " [16  0 18  0 20]\n",
            " [ 0 22  0 24  0]]\n",
            "\n",
            "Q9 Multipilaction using broadcasting\n",
            "Multiplication using broadcasting :\n",
            " [[10 20 30]\n",
            " [20 40 60]\n",
            " [30 60 90]]\n",
            "\n",
            " Q10 diagonal\n",
            "\n",
            "[[ 5 -1 -1 -1]\n",
            " [-1 10 -1 -1]\n",
            " [-1 -1 15 -1]\n",
            " [-1 -1 -1 20]]\n"
          ]
        }
      ]
    },
    {
      "cell_type": "code",
      "source": [
        "# Q11. Using np.eye(5). create 5 x 5 matrix with diagonal values equal to multiples of 3\n",
        "print(\"Q11 diagonal value equal to multiples of 3 \\n\")\n",
        "id = np.eye(5,dtype=int)\n",
        "diag_value = np.arange(1,6) * 3\n",
        "matrix = id * diag_value\n",
        "print(\"\\nMatrix with diagonal with multiple of 3 :\\n\",matrix)\n",
        "\n",
        "# Q12.Construct an array of shape (3,4,2) with values from 1 to 24. Flatten it using ravel(), and then reshape it into (2,3,4).\n",
        "print(\"\\nQ12 flatten it using ravel()\\n\")\n",
        "ar12 = np.arange(1,25).reshape(3,4,2)\n",
        "print(ar12,\"\\n\")\n",
        "flat_arr = ar12.ravel()\n",
        "print(\"\\nFlatten array :\\n\",flat_arr)\n",
        "reshape_arr12 = flat_arr.reshape(2,3,4)\n",
        "print(\"\\nAfter reshape :\\n\",reshape_arr12)\n"
      ],
      "metadata": {
        "colab": {
          "base_uri": "https://localhost:8080/"
        },
        "id": "GrBav4mHSTBz",
        "outputId": "7ea120c2-82c7-4385-cbb8-ac0c48a2ca6f"
      },
      "execution_count": null,
      "outputs": [
        {
          "output_type": "stream",
          "name": "stdout",
          "text": [
            "Q11 diagonal value equal to multiples of 3 \n",
            "\n",
            "\n",
            "Matrix with diagonal with multiple of 3 :\n",
            " [[ 3  0  0  0  0]\n",
            " [ 0  6  0  0  0]\n",
            " [ 0  0  9  0  0]\n",
            " [ 0  0  0 12  0]\n",
            " [ 0  0  0  0 15]]\n",
            "\n",
            "Q12 flatten it using ravel()\n",
            "\n",
            "[[[ 1  2]\n",
            "  [ 3  4]\n",
            "  [ 5  6]\n",
            "  [ 7  8]]\n",
            "\n",
            " [[ 9 10]\n",
            "  [11 12]\n",
            "  [13 14]\n",
            "  [15 16]]\n",
            "\n",
            " [[17 18]\n",
            "  [19 20]\n",
            "  [21 22]\n",
            "  [23 24]]] \n",
            "\n",
            "\n",
            "Flatten array :\n",
            " [ 1  2  3  4  5  6  7  8  9 10 11 12 13 14 15 16 17 18 19 20 21 22 23 24]\n",
            "\n",
            "After reshape :\n",
            " [[[ 1  2  3  4]\n",
            "  [ 5  6  7  8]\n",
            "  [ 9 10 11 12]]\n",
            "\n",
            " [[13 14 15 16]\n",
            "  [17 18 19 20]\n",
            "  [21 22 23 24]]]\n"
          ]
        }
      ]
    },
    {
      "cell_type": "code",
      "source": [
        "# Q13. Generate a 7×7 matrix of random integers (1–100). Replace all values divisible by 5 with -5 using boolean indexing.\n",
        "print(\"Q13 \\n\")\n",
        "ar13 = np.random.randint(1,100,(7,7))\n",
        "print(\"Origial array :\\n\",ar13)\n",
        "ar13[ar13 % 5 == 0 ] = -5\n",
        "print(\"\\nAfter replacing:\\n\",ar13)\n",
        "\n",
        "# Q14 Given arr = np.linspace(0, 2*np.pi, 10), compute sine and cosine values for each element and stack them into a 2D array with shape (10,2)\n",
        "print(\"\\nQ14 Sin cos \\n\")\n",
        "ar14 = np.linspace(0,2*np.pi,10)\n",
        "print(ar14)\n",
        "sin_value = np.sin(ar14)\n",
        "cos_value = np.cos(ar14)\n",
        "result = np.column_stack((sin_value,cos_value)) #(()) for used multiple argument\n",
        "print(\"Sine and Cosine values :\\n\",result)\n",
        "\n",
        "# Q15 Create a 5 X 5 checkboard pattern (alternating 0s and 1s) using slicing, without\n",
        "#     manually typing each element\n",
        "ar15 = np.zeros((5,5),dtype = int)\n",
        "ar15[::2,::2] = 1 #set even row , even column\n",
        "ar15[1::2,1::2] = 1 # set odd row , odd column\n",
        "print(\"\\nQ15 checkboard \\n\")\n",
        "print(ar15)"
      ],
      "metadata": {
        "colab": {
          "base_uri": "https://localhost:8080/"
        },
        "id": "jniakZh8Vl5f",
        "outputId": "5ef11220-023f-43ae-9ca7-a1465369649f"
      },
      "execution_count": 14,
      "outputs": [
        {
          "output_type": "stream",
          "name": "stdout",
          "text": [
            "Q13 \n",
            "\n",
            "Origial array :\n",
            " [[20 48 93 57 22 59 88]\n",
            " [52 42 48  8 20 97 60]\n",
            " [81 85 57 38 94 47 96]\n",
            " [53 66 81 20 24 40 89]\n",
            " [74 17 47 38 15 96 60]\n",
            " [86 94 73 58  4 14  3]\n",
            " [34 29 98 27 99 79 52]]\n",
            "\n",
            "After replacing:\n",
            " [[-5 48 93 57 22 59 88]\n",
            " [52 42 48  8 -5 97 -5]\n",
            " [81 -5 57 38 94 47 96]\n",
            " [53 66 81 -5 24 -5 89]\n",
            " [74 17 47 38 -5 96 -5]\n",
            " [86 94 73 58  4 14  3]\n",
            " [34 29 98 27 99 79 52]]\n",
            "\n",
            "Q14 Sin cos \n",
            "\n",
            "[0.         0.6981317  1.3962634  2.0943951  2.7925268  3.4906585\n",
            " 4.1887902  4.88692191 5.58505361 6.28318531]\n",
            "Sine and Cosine values :\n",
            " [[ 0.00000000e+00  1.00000000e+00]\n",
            " [ 6.42787610e-01  7.66044443e-01]\n",
            " [ 9.84807753e-01  1.73648178e-01]\n",
            " [ 8.66025404e-01 -5.00000000e-01]\n",
            " [ 3.42020143e-01 -9.39692621e-01]\n",
            " [-3.42020143e-01 -9.39692621e-01]\n",
            " [-8.66025404e-01 -5.00000000e-01]\n",
            " [-9.84807753e-01  1.73648178e-01]\n",
            " [-6.42787610e-01  7.66044443e-01]\n",
            " [-2.44929360e-16  1.00000000e+00]]\n",
            "\n",
            "Q15 checkboard \n",
            "\n",
            "[[1 0 1 0 1]\n",
            " [0 1 0 1 0]\n",
            " [1 0 1 0 1]\n",
            " [0 1 0 1 0]\n",
            " [1 0 1 0 1]]\n"
          ]
        }
      ]
    },
    {
      "cell_type": "code",
      "source": [],
      "metadata": {
        "id": "gI26ZtVpg7Vd"
      },
      "execution_count": null,
      "outputs": []
    }
  ]
}